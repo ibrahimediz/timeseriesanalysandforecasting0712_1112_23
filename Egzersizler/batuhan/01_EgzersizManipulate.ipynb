{
 "cells": [
  {
   "cell_type": "markdown",
   "metadata": {},
   "source": [
    "```\n",
    "import pandas as pd\n",
    "from datetime import datetime\n",
    "import matplotlib.pyplot as plt\n",
    "df = pd.read_csv(\"../../Datasets/price.csv\")\n",
    "```\n",
    "Yukarıda yer alan kodu kullanarak\n",
    "1. Verinin içeriğine bakılması\n",
    "2. Tarih Verisinin indis haline getirilmesi\n",
    "3. frekansın iş günü haline getirilmesi\n",
    "4. Bonds sütunu için grafik çizilmesi\n",
    "5. Bonds Sütununu dikkate alarak `lags`,`shifted` değerlerinin hesaplanması\n",
    "6. Bonds dikkate alarak yüzdelik değişimin hesaplanması \n",
    "işlemlerini gerçekleştirelim\n"
   ]
  },
  {
   "cell_type": "code",
   "execution_count": 9,
   "metadata": {},
   "outputs": [],
   "source": [
    "import pandas as pd\n",
    "from datetime import datetime\n",
    "import matplotlib.pyplot as plt\n",
    "df = pd.read_csv(\"../../Datasets/price.csv\")"
   ]
  },
  {
   "cell_type": "code",
   "execution_count": 4,
   "metadata": {},
   "outputs": [
    {
     "name": "stdout",
     "output_type": "stream",
     "text": [
      "<class 'pandas.core.frame.DataFrame'>\n",
      "RangeIndex: 2469 entries, 0 to 2468\n",
      "Data columns (total 5 columns):\n",
      " #   Column  Non-Null Count  Dtype  \n",
      "---  ------  --------------  -----  \n",
      " 0   DATE    2469 non-null   object \n",
      " 1   SP500   2469 non-null   float64\n",
      " 2   Bonds   2469 non-null   float64\n",
      " 3   Gold    2469 non-null   float64\n",
      " 4   Oil     2469 non-null   float64\n",
      "dtypes: float64(4), object(1)\n",
      "memory usage: 96.6+ KB\n"
     ]
    }
   ],
   "source": [
    "df.info()"
   ]
  },
  {
   "cell_type": "code",
   "execution_count": 3,
   "metadata": {},
   "outputs": [
    {
     "data": {
      "text/html": [
       "<div>\n",
       "<style scoped>\n",
       "    .dataframe tbody tr th:only-of-type {\n",
       "        vertical-align: middle;\n",
       "    }\n",
       "\n",
       "    .dataframe tbody tr th {\n",
       "        vertical-align: top;\n",
       "    }\n",
       "\n",
       "    .dataframe thead th {\n",
       "        text-align: right;\n",
       "    }\n",
       "</style>\n",
       "<table border=\"1\" class=\"dataframe\">\n",
       "  <thead>\n",
       "    <tr style=\"text-align: right;\">\n",
       "      <th></th>\n",
       "      <th>DATE</th>\n",
       "      <th>SP500</th>\n",
       "      <th>Bonds</th>\n",
       "      <th>Gold</th>\n",
       "      <th>Oil</th>\n",
       "    </tr>\n",
       "  </thead>\n",
       "  <tbody>\n",
       "    <tr>\n",
       "      <th>0</th>\n",
       "      <td>2007-06-29</td>\n",
       "      <td>1503.35</td>\n",
       "      <td>402.15</td>\n",
       "      <td>648.50</td>\n",
       "      <td>70.47</td>\n",
       "    </tr>\n",
       "    <tr>\n",
       "      <th>1</th>\n",
       "      <td>2007-07-02</td>\n",
       "      <td>1519.43</td>\n",
       "      <td>402.96</td>\n",
       "      <td>650.50</td>\n",
       "      <td>71.11</td>\n",
       "    </tr>\n",
       "    <tr>\n",
       "      <th>2</th>\n",
       "      <td>2007-07-03</td>\n",
       "      <td>1524.87</td>\n",
       "      <td>402.02</td>\n",
       "      <td>657.25</td>\n",
       "      <td>71.41</td>\n",
       "    </tr>\n",
       "    <tr>\n",
       "      <th>3</th>\n",
       "      <td>2007-07-05</td>\n",
       "      <td>1525.40</td>\n",
       "      <td>400.15</td>\n",
       "      <td>655.90</td>\n",
       "      <td>71.81</td>\n",
       "    </tr>\n",
       "    <tr>\n",
       "      <th>4</th>\n",
       "      <td>2007-07-06</td>\n",
       "      <td>1530.44</td>\n",
       "      <td>399.31</td>\n",
       "      <td>647.75</td>\n",
       "      <td>72.80</td>\n",
       "    </tr>\n",
       "  </tbody>\n",
       "</table>\n",
       "</div>"
      ],
      "text/plain": [
       "         DATE    SP500   Bonds    Gold    Oil\n",
       "0  2007-06-29  1503.35  402.15  648.50  70.47\n",
       "1  2007-07-02  1519.43  402.96  650.50  71.11\n",
       "2  2007-07-03  1524.87  402.02  657.25  71.41\n",
       "3  2007-07-05  1525.40  400.15  655.90  71.81\n",
       "4  2007-07-06  1530.44  399.31  647.75  72.80"
      ]
     },
     "execution_count": 3,
     "metadata": {},
     "output_type": "execute_result"
    }
   ],
   "source": [
    "df.head()"
   ]
  },
  {
   "cell_type": "code",
   "execution_count": 10,
   "metadata": {},
   "outputs": [
    {
     "name": "stdout",
     "output_type": "stream",
     "text": [
      "<class 'pandas.core.frame.DataFrame'>\n",
      "DatetimeIndex: 2469 entries, 2007-06-29 to 2017-06-26\n",
      "Data columns (total 4 columns):\n",
      " #   Column  Non-Null Count  Dtype  \n",
      "---  ------  --------------  -----  \n",
      " 0   SP500   2469 non-null   float64\n",
      " 1   Bonds   2469 non-null   float64\n",
      " 2   Gold    2469 non-null   float64\n",
      " 3   Oil     2469 non-null   float64\n",
      "dtypes: float64(4)\n",
      "memory usage: 96.4 KB\n"
     ]
    }
   ],
   "source": [
    "df['DATE'] = pd.to_datetime(df.DATE)\n",
    "df.set_index('DATE',inplace=True)\n",
    "df.info()"
   ]
  },
  {
   "cell_type": "code",
   "execution_count": 11,
   "metadata": {},
   "outputs": [
    {
     "data": {
      "text/html": [
       "<div>\n",
       "<style scoped>\n",
       "    .dataframe tbody tr th:only-of-type {\n",
       "        vertical-align: middle;\n",
       "    }\n",
       "\n",
       "    .dataframe tbody tr th {\n",
       "        vertical-align: top;\n",
       "    }\n",
       "\n",
       "    .dataframe thead th {\n",
       "        text-align: right;\n",
       "    }\n",
       "</style>\n",
       "<table border=\"1\" class=\"dataframe\">\n",
       "  <thead>\n",
       "    <tr style=\"text-align: right;\">\n",
       "      <th></th>\n",
       "      <th>SP500</th>\n",
       "      <th>Bonds</th>\n",
       "      <th>Gold</th>\n",
       "      <th>Oil</th>\n",
       "    </tr>\n",
       "    <tr>\n",
       "      <th>DATE</th>\n",
       "      <th></th>\n",
       "      <th></th>\n",
       "      <th></th>\n",
       "      <th></th>\n",
       "    </tr>\n",
       "  </thead>\n",
       "  <tbody>\n",
       "    <tr>\n",
       "      <th>2007-06-29</th>\n",
       "      <td>1503.35</td>\n",
       "      <td>402.15</td>\n",
       "      <td>648.50</td>\n",
       "      <td>70.47</td>\n",
       "    </tr>\n",
       "    <tr>\n",
       "      <th>2007-07-02</th>\n",
       "      <td>1519.43</td>\n",
       "      <td>402.96</td>\n",
       "      <td>650.50</td>\n",
       "      <td>71.11</td>\n",
       "    </tr>\n",
       "    <tr>\n",
       "      <th>2007-07-03</th>\n",
       "      <td>1524.87</td>\n",
       "      <td>402.02</td>\n",
       "      <td>657.25</td>\n",
       "      <td>71.41</td>\n",
       "    </tr>\n",
       "    <tr>\n",
       "      <th>2007-07-05</th>\n",
       "      <td>1525.40</td>\n",
       "      <td>400.15</td>\n",
       "      <td>655.90</td>\n",
       "      <td>71.81</td>\n",
       "    </tr>\n",
       "    <tr>\n",
       "      <th>2007-07-06</th>\n",
       "      <td>1530.44</td>\n",
       "      <td>399.31</td>\n",
       "      <td>647.75</td>\n",
       "      <td>72.80</td>\n",
       "    </tr>\n",
       "  </tbody>\n",
       "</table>\n",
       "</div>"
      ],
      "text/plain": [
       "              SP500   Bonds    Gold    Oil\n",
       "DATE                                      \n",
       "2007-06-29  1503.35  402.15  648.50  70.47\n",
       "2007-07-02  1519.43  402.96  650.50  71.11\n",
       "2007-07-03  1524.87  402.02  657.25  71.41\n",
       "2007-07-05  1525.40  400.15  655.90  71.81\n",
       "2007-07-06  1530.44  399.31  647.75  72.80"
      ]
     },
     "execution_count": 11,
     "metadata": {},
     "output_type": "execute_result"
    }
   ],
   "source": [
    "df.head()"
   ]
  },
  {
   "cell_type": "code",
   "execution_count": 13,
   "metadata": {},
   "outputs": [
    {
     "data": {
      "text/html": [
       "<div>\n",
       "<style scoped>\n",
       "    .dataframe tbody tr th:only-of-type {\n",
       "        vertical-align: middle;\n",
       "    }\n",
       "\n",
       "    .dataframe tbody tr th {\n",
       "        vertical-align: top;\n",
       "    }\n",
       "\n",
       "    .dataframe thead th {\n",
       "        text-align: right;\n",
       "    }\n",
       "</style>\n",
       "<table border=\"1\" class=\"dataframe\">\n",
       "  <thead>\n",
       "    <tr style=\"text-align: right;\">\n",
       "      <th></th>\n",
       "      <th>SP500</th>\n",
       "      <th>Bonds</th>\n",
       "      <th>Gold</th>\n",
       "      <th>Oil</th>\n",
       "    </tr>\n",
       "    <tr>\n",
       "      <th>DATE</th>\n",
       "      <th></th>\n",
       "      <th></th>\n",
       "      <th></th>\n",
       "      <th></th>\n",
       "    </tr>\n",
       "  </thead>\n",
       "  <tbody>\n",
       "    <tr>\n",
       "      <th>2007-06-29</th>\n",
       "      <td>1503.35</td>\n",
       "      <td>402.15</td>\n",
       "      <td>648.50</td>\n",
       "      <td>70.47</td>\n",
       "    </tr>\n",
       "    <tr>\n",
       "      <th>2007-07-02</th>\n",
       "      <td>1519.43</td>\n",
       "      <td>402.96</td>\n",
       "      <td>650.50</td>\n",
       "      <td>71.11</td>\n",
       "    </tr>\n",
       "    <tr>\n",
       "      <th>2007-07-03</th>\n",
       "      <td>1524.87</td>\n",
       "      <td>402.02</td>\n",
       "      <td>657.25</td>\n",
       "      <td>71.41</td>\n",
       "    </tr>\n",
       "    <tr>\n",
       "      <th>2007-07-04</th>\n",
       "      <td>NaN</td>\n",
       "      <td>NaN</td>\n",
       "      <td>NaN</td>\n",
       "      <td>NaN</td>\n",
       "    </tr>\n",
       "    <tr>\n",
       "      <th>2007-07-05</th>\n",
       "      <td>1525.40</td>\n",
       "      <td>400.15</td>\n",
       "      <td>655.90</td>\n",
       "      <td>71.81</td>\n",
       "    </tr>\n",
       "  </tbody>\n",
       "</table>\n",
       "</div>"
      ],
      "text/plain": [
       "              SP500   Bonds    Gold    Oil\n",
       "DATE                                      \n",
       "2007-06-29  1503.35  402.15  648.50  70.47\n",
       "2007-07-02  1519.43  402.96  650.50  71.11\n",
       "2007-07-03  1524.87  402.02  657.25  71.41\n",
       "2007-07-04      NaN     NaN     NaN    NaN\n",
       "2007-07-05  1525.40  400.15  655.90  71.81"
      ]
     },
     "execution_count": 13,
     "metadata": {},
     "output_type": "execute_result"
    }
   ],
   "source": [
    "df.asfreq('B').head()"
   ]
  },
  {
   "cell_type": "code",
   "execution_count": 14,
   "metadata": {},
   "outputs": [
    {
     "data": {
      "text/plain": [
       "<Axes: xlabel='DATE'>"
      ]
     },
     "execution_count": 14,
     "metadata": {},
     "output_type": "execute_result"
    },
    {
     "data": {
      "image/png": "[encoded data removed]",
      "text/plain": [
       "<Figure size 640x480 with 1 Axes>"
      ]
     },
     "metadata": {},
     "output_type": "display_data"
    }
   ],
   "source": [
    "df.Bonds.plot()"
   ]
  },
  {
   "cell_type": "code",
   "execution_count": 15,
   "metadata": {},
   "outputs": [],
   "source": [
    "df[\"return_Bonds_3d\"] = df.Bonds.pct_change(periods=1).mul(100)"
   ]
  },
  {
   "cell_type": "code",
   "execution_count": 16,
   "metadata": {},
   "outputs": [
    {
     "data": {
      "text/html": [
       "<div>\n",
       "<style scoped>\n",
       "    .dataframe tbody tr th:only-of-type {\n",
       "        vertical-align: middle;\n",
       "    }\n",
       "\n",
       "    .dataframe tbody tr th {\n",
       "        vertical-align: top;\n",
       "    }\n",
       "\n",
       "    .dataframe thead th {\n",
       "        text-align: right;\n",
       "    }\n",
       "</style>\n",
       "<table border=\"1\" class=\"dataframe\">\n",
       "  <thead>\n",
       "    <tr style=\"text-align: right;\">\n",
       "      <th></th>\n",
       "      <th>SP500</th>\n",
       "      <th>Bonds</th>\n",
       "      <th>Gold</th>\n",
       "      <th>Oil</th>\n",
       "      <th>return_Bonds_3d</th>\n",
       "    </tr>\n",
       "    <tr>\n",
       "      <th>DATE</th>\n",
       "      <th></th>\n",
       "      <th></th>\n",
       "      <th></th>\n",
       "      <th></th>\n",
       "      <th></th>\n",
       "    </tr>\n",
       "  </thead>\n",
       "  <tbody>\n",
       "    <tr>\n",
       "      <th>2007-06-29</th>\n",
       "      <td>1503.35</td>\n",
       "      <td>402.15</td>\n",
       "      <td>648.50</td>\n",
       "      <td>70.47</td>\n",
       "      <td>NaN</td>\n",
       "    </tr>\n",
       "    <tr>\n",
       "      <th>2007-07-02</th>\n",
       "      <td>1519.43</td>\n",
       "      <td>402.96</td>\n",
       "      <td>650.50</td>\n",
       "      <td>71.11</td>\n",
       "      <td>0.201417</td>\n",
       "    </tr>\n",
       "    <tr>\n",
       "      <th>2007-07-03</th>\n",
       "      <td>1524.87</td>\n",
       "      <td>402.02</td>\n",
       "      <td>657.25</td>\n",
       "      <td>71.41</td>\n",
       "      <td>-0.233274</td>\n",
       "    </tr>\n",
       "    <tr>\n",
       "      <th>2007-07-05</th>\n",
       "      <td>1525.40</td>\n",
       "      <td>400.15</td>\n",
       "      <td>655.90</td>\n",
       "      <td>71.81</td>\n",
       "      <td>-0.465151</td>\n",
       "    </tr>\n",
       "    <tr>\n",
       "      <th>2007-07-06</th>\n",
       "      <td>1530.44</td>\n",
       "      <td>399.31</td>\n",
       "      <td>647.75</td>\n",
       "      <td>72.80</td>\n",
       "      <td>-0.209921</td>\n",
       "    </tr>\n",
       "    <tr>\n",
       "      <th>...</th>\n",
       "      <td>...</td>\n",
       "      <td>...</td>\n",
       "      <td>...</td>\n",
       "      <td>...</td>\n",
       "      <td>...</td>\n",
       "    </tr>\n",
       "    <tr>\n",
       "      <th>2017-06-20</th>\n",
       "      <td>2437.03</td>\n",
       "      <td>621.84</td>\n",
       "      <td>1246.50</td>\n",
       "      <td>43.34</td>\n",
       "      <td>0.439333</td>\n",
       "    </tr>\n",
       "    <tr>\n",
       "      <th>2017-06-21</th>\n",
       "      <td>2435.61</td>\n",
       "      <td>622.94</td>\n",
       "      <td>1247.05</td>\n",
       "      <td>42.48</td>\n",
       "      <td>0.176894</td>\n",
       "    </tr>\n",
       "    <tr>\n",
       "      <th>2017-06-22</th>\n",
       "      <td>2434.50</td>\n",
       "      <td>622.93</td>\n",
       "      <td>1251.40</td>\n",
       "      <td>42.53</td>\n",
       "      <td>-0.001605</td>\n",
       "    </tr>\n",
       "    <tr>\n",
       "      <th>2017-06-23</th>\n",
       "      <td>2438.30</td>\n",
       "      <td>623.57</td>\n",
       "      <td>1256.30</td>\n",
       "      <td>42.86</td>\n",
       "      <td>0.102740</td>\n",
       "    </tr>\n",
       "    <tr>\n",
       "      <th>2017-06-26</th>\n",
       "      <td>2439.07</td>\n",
       "      <td>625.00</td>\n",
       "      <td>1240.85</td>\n",
       "      <td>43.24</td>\n",
       "      <td>0.229325</td>\n",
       "    </tr>\n",
       "  </tbody>\n",
       "</table>\n",
       "<p>2469 rows × 5 columns</p>\n",
       "</div>"
      ],
      "text/plain": [
       "              SP500   Bonds     Gold    Oil  return_Bonds_3d\n",
       "DATE                                                        \n",
       "2007-06-29  1503.35  402.15   648.50  70.47              NaN\n",
       "2007-07-02  1519.43  402.96   650.50  71.11         0.201417\n",
       "2007-07-03  1524.87  402.02   657.25  71.41        -0.233274\n",
       "2007-07-05  1525.40  400.15   655.90  71.81        -0.465151\n",
       "2007-07-06  1530.44  399.31   647.75  72.80        -0.209921\n",
       "...             ...     ...      ...    ...              ...\n",
       "2017-06-20  2437.03  621.84  1246.50  43.34         0.439333\n",
       "2017-06-21  2435.61  622.94  1247.05  42.48         0.176894\n",
       "2017-06-22  2434.50  622.93  1251.40  42.53        -0.001605\n",
       "2017-06-23  2438.30  623.57  1256.30  42.86         0.102740\n",
       "2017-06-26  2439.07  625.00  1240.85  43.24         0.229325\n",
       "\n",
       "[2469 rows x 5 columns]"
      ]
     },
     "execution_count": 16,
     "metadata": {},
     "output_type": "execute_result"
    }
   ],
   "source": [
    "df"
   ]
  },
  {
   "cell_type": "code",
   "execution_count": 17,
   "metadata": {},
   "outputs": [
    {
     "data": {
      "text/plain": [
       "2023-03-31    1\n",
       "2023-06-30    2\n",
       "2023-09-30    3\n",
       "2023-12-31    4\n",
       "Freq: Q-DEC, dtype: int64"
      ]
     },
     "execution_count": 17,
     "metadata": {},
     "output_type": "execute_result"
    }
   ],
   "source": [
    "tarihler = pd.date_range(start='2023',periods=4,freq='Q')\n",
    "veri = range(1,5)\n",
    "seri1 = pd.Series(data=veri,index=tarihler)\n",
    "seri1"
   ]
  },
  {
   "cell_type": "code",
   "execution_count": 18,
   "metadata": {},
   "outputs": [
    {
     "data": {
      "text/plain": [
       "2023-03-31    1.0\n",
       "2023-04-30    NaN\n",
       "2023-05-31    NaN\n",
       "2023-06-30    2.0\n",
       "2023-07-31    NaN\n",
       "2023-08-31    NaN\n",
       "2023-09-30    3.0\n",
       "2023-10-31    NaN\n",
       "2023-11-30    NaN\n",
       "2023-12-31    4.0\n",
       "Freq: M, dtype: float64"
      ]
     },
     "execution_count": 18,
     "metadata": {},
     "output_type": "execute_result"
    }
   ],
   "source": [
    "aylik = seri1.asfreq('M')\n",
    "aylik"
   ]
  },
  {
   "cell_type": "code",
   "execution_count": 19,
   "metadata": {},
   "outputs": [
    {
     "data": {
      "text/html": [
       "<div>\n",
       "<style scoped>\n",
       "    .dataframe tbody tr th:only-of-type {\n",
       "        vertical-align: middle;\n",
       "    }\n",
       "\n",
       "    .dataframe tbody tr th {\n",
       "        vertical-align: top;\n",
       "    }\n",
       "\n",
       "    .dataframe thead th {\n",
       "        text-align: right;\n",
       "    }\n",
       "</style>\n",
       "<table border=\"1\" class=\"dataframe\">\n",
       "  <thead>\n",
       "    <tr style=\"text-align: right;\">\n",
       "      <th></th>\n",
       "      <th>baseline</th>\n",
       "    </tr>\n",
       "  </thead>\n",
       "  <tbody>\n",
       "    <tr>\n",
       "      <th>2023-03-31</th>\n",
       "      <td>1.0</td>\n",
       "    </tr>\n",
       "    <tr>\n",
       "      <th>2023-04-30</th>\n",
       "      <td>NaN</td>\n",
       "    </tr>\n",
       "    <tr>\n",
       "      <th>2023-05-31</th>\n",
       "      <td>NaN</td>\n",
       "    </tr>\n",
       "    <tr>\n",
       "      <th>2023-06-30</th>\n",
       "      <td>2.0</td>\n",
       "    </tr>\n",
       "    <tr>\n",
       "      <th>2023-07-31</th>\n",
       "      <td>NaN</td>\n",
       "    </tr>\n",
       "    <tr>\n",
       "      <th>2023-08-31</th>\n",
       "      <td>NaN</td>\n",
       "    </tr>\n",
       "    <tr>\n",
       "      <th>2023-09-30</th>\n",
       "      <td>3.0</td>\n",
       "    </tr>\n",
       "    <tr>\n",
       "      <th>2023-10-31</th>\n",
       "      <td>NaN</td>\n",
       "    </tr>\n",
       "    <tr>\n",
       "      <th>2023-11-30</th>\n",
       "      <td>NaN</td>\n",
       "    </tr>\n",
       "    <tr>\n",
       "      <th>2023-12-31</th>\n",
       "      <td>4.0</td>\n",
       "    </tr>\n",
       "  </tbody>\n",
       "</table>\n",
       "</div>"
      ],
      "text/plain": [
       "            baseline\n",
       "2023-03-31       1.0\n",
       "2023-04-30       NaN\n",
       "2023-05-31       NaN\n",
       "2023-06-30       2.0\n",
       "2023-07-31       NaN\n",
       "2023-08-31       NaN\n",
       "2023-09-30       3.0\n",
       "2023-10-31       NaN\n",
       "2023-11-30       NaN\n",
       "2023-12-31       4.0"
      ]
     },
     "execution_count": 19,
     "metadata": {},
     "output_type": "execute_result"
    }
   ],
   "source": [
    "aylikdf = aylik.to_frame('baseline')\n",
    "aylikdf"
   ]
  },
  {
   "cell_type": "code",
   "execution_count": 22,
   "metadata": {},
   "outputs": [],
   "source": [
    "aylikdf['Date'] = aylikdf.index.values"
   ]
  },
  {
   "cell_type": "code",
   "execution_count": 24,
   "metadata": {},
   "outputs": [
    {
     "data": {
      "text/html": [
       "<div>\n",
       "<style scoped>\n",
       "    .dataframe tbody tr th:only-of-type {\n",
       "        vertical-align: middle;\n",
       "    }\n",
       "\n",
       "    .dataframe tbody tr th {\n",
       "        vertical-align: top;\n",
       "    }\n",
       "\n",
       "    .dataframe thead th {\n",
       "        text-align: right;\n",
       "    }\n",
       "</style>\n",
       "<table border=\"1\" class=\"dataframe\">\n",
       "  <thead>\n",
       "    <tr style=\"text-align: right;\">\n",
       "      <th></th>\n",
       "      <th>baseline</th>\n",
       "      <th>Date</th>\n",
       "    </tr>\n",
       "  </thead>\n",
       "  <tbody>\n",
       "    <tr>\n",
       "      <th>2023-03-31</th>\n",
       "      <td>1.0</td>\n",
       "      <td>2023-03-31</td>\n",
       "    </tr>\n",
       "    <tr>\n",
       "      <th>2023-04-30</th>\n",
       "      <td>NaN</td>\n",
       "      <td>2023-04-30</td>\n",
       "    </tr>\n",
       "    <tr>\n",
       "      <th>2023-05-31</th>\n",
       "      <td>NaN</td>\n",
       "      <td>2023-05-31</td>\n",
       "    </tr>\n",
       "    <tr>\n",
       "      <th>2023-06-30</th>\n",
       "      <td>2.0</td>\n",
       "      <td>2023-06-30</td>\n",
       "    </tr>\n",
       "    <tr>\n",
       "      <th>2023-07-31</th>\n",
       "      <td>NaN</td>\n",
       "      <td>2023-07-31</td>\n",
       "    </tr>\n",
       "    <tr>\n",
       "      <th>2023-08-31</th>\n",
       "      <td>NaN</td>\n",
       "      <td>2023-08-31</td>\n",
       "    </tr>\n",
       "    <tr>\n",
       "      <th>2023-09-30</th>\n",
       "      <td>3.0</td>\n",
       "      <td>2023-09-30</td>\n",
       "    </tr>\n",
       "    <tr>\n",
       "      <th>2023-10-31</th>\n",
       "      <td>NaN</td>\n",
       "      <td>2023-10-31</td>\n",
       "    </tr>\n",
       "    <tr>\n",
       "      <th>2023-11-30</th>\n",
       "      <td>NaN</td>\n",
       "      <td>2023-11-30</td>\n",
       "    </tr>\n",
       "    <tr>\n",
       "      <th>2023-12-31</th>\n",
       "      <td>4.0</td>\n",
       "      <td>2023-12-31</td>\n",
       "    </tr>\n",
       "  </tbody>\n",
       "</table>\n",
       "</div>"
      ],
      "text/plain": [
       "            baseline       Date\n",
       "2023-03-31       1.0 2023-03-31\n",
       "2023-04-30       NaN 2023-04-30\n",
       "2023-05-31       NaN 2023-05-31\n",
       "2023-06-30       2.0 2023-06-30\n",
       "2023-07-31       NaN 2023-07-31\n",
       "2023-08-31       NaN 2023-08-31\n",
       "2023-09-30       3.0 2023-09-30\n",
       "2023-10-31       NaN 2023-10-31\n",
       "2023-11-30       NaN 2023-11-30\n",
       "2023-12-31       4.0 2023-12-31"
      ]
     },
     "execution_count": 24,
     "metadata": {},
     "output_type": "execute_result"
    }
   ],
   "source": [
    "aylikdf"
   ]
  },
  {
   "cell_type": "code",
   "execution_count": 26,
   "metadata": {},
   "outputs": [
    {
     "data": {
      "text/html": [
       "<div>\n",
       "<style scoped>\n",
       "    .dataframe tbody tr th:only-of-type {\n",
       "        vertical-align: middle;\n",
       "    }\n",
       "\n",
       "    .dataframe tbody tr th {\n",
       "        vertical-align: top;\n",
       "    }\n",
       "\n",
       "    .dataframe thead th {\n",
       "        text-align: right;\n",
       "    }\n",
       "</style>\n",
       "<table border=\"1\" class=\"dataframe\">\n",
       "  <thead>\n",
       "    <tr style=\"text-align: right;\">\n",
       "      <th></th>\n",
       "      <th>DATE</th>\n",
       "      <th>UNRATE</th>\n",
       "    </tr>\n",
       "  </thead>\n",
       "  <tbody>\n",
       "    <tr>\n",
       "      <th>0</th>\n",
       "      <td>2010-01-01</td>\n",
       "      <td>9.8</td>\n",
       "    </tr>\n",
       "    <tr>\n",
       "      <th>1</th>\n",
       "      <td>2010-02-01</td>\n",
       "      <td>9.8</td>\n",
       "    </tr>\n",
       "    <tr>\n",
       "      <th>2</th>\n",
       "      <td>2010-03-01</td>\n",
       "      <td>9.9</td>\n",
       "    </tr>\n",
       "    <tr>\n",
       "      <th>3</th>\n",
       "      <td>2010-04-01</td>\n",
       "      <td>9.9</td>\n",
       "    </tr>\n",
       "    <tr>\n",
       "      <th>4</th>\n",
       "      <td>2010-05-01</td>\n",
       "      <td>9.6</td>\n",
       "    </tr>\n",
       "  </tbody>\n",
       "</table>\n",
       "</div>"
      ],
      "text/plain": [
       "         DATE  UNRATE\n",
       "0  2010-01-01     9.8\n",
       "1  2010-02-01     9.8\n",
       "2  2010-03-01     9.9\n",
       "3  2010-04-01     9.9\n",
       "4  2010-05-01     9.6"
      ]
     },
     "execution_count": 26,
     "metadata": {},
     "output_type": "execute_result"
    }
   ],
   "source": [
    "df =  pd.read_csv(\"../../Datasets/unemployment rate.csv\")\n",
    "df.head()"
   ]
  },
  {
   "cell_type": "code",
   "execution_count": 28,
   "metadata": {},
   "outputs": [
    {
     "data": {
      "text/html": [
       "<div>\n",
       "<style scoped>\n",
       "    .dataframe tbody tr th:only-of-type {\n",
       "        vertical-align: middle;\n",
       "    }\n",
       "\n",
       "    .dataframe tbody tr th {\n",
       "        vertical-align: top;\n",
       "    }\n",
       "\n",
       "    .dataframe thead th {\n",
       "        text-align: right;\n",
       "    }\n",
       "</style>\n",
       "<table border=\"1\" class=\"dataframe\">\n",
       "  <thead>\n",
       "    <tr style=\"text-align: right;\">\n",
       "      <th></th>\n",
       "      <th>SP500</th>\n",
       "      <th>Bonds</th>\n",
       "      <th>Gold</th>\n",
       "      <th>Oil</th>\n",
       "    </tr>\n",
       "    <tr>\n",
       "      <th>DATE</th>\n",
       "      <th></th>\n",
       "      <th></th>\n",
       "      <th></th>\n",
       "      <th></th>\n",
       "    </tr>\n",
       "  </thead>\n",
       "  <tbody>\n",
       "    <tr>\n",
       "      <th>2007-06-29</th>\n",
       "      <td>1503.35</td>\n",
       "      <td>402.15</td>\n",
       "      <td>648.50</td>\n",
       "      <td>70.47</td>\n",
       "    </tr>\n",
       "    <tr>\n",
       "      <th>2007-07-02</th>\n",
       "      <td>1519.43</td>\n",
       "      <td>402.96</td>\n",
       "      <td>650.50</td>\n",
       "      <td>71.11</td>\n",
       "    </tr>\n",
       "    <tr>\n",
       "      <th>2007-07-03</th>\n",
       "      <td>1524.87</td>\n",
       "      <td>402.02</td>\n",
       "      <td>657.25</td>\n",
       "      <td>71.41</td>\n",
       "    </tr>\n",
       "    <tr>\n",
       "      <th>2007-07-05</th>\n",
       "      <td>1525.40</td>\n",
       "      <td>400.15</td>\n",
       "      <td>655.90</td>\n",
       "      <td>71.81</td>\n",
       "    </tr>\n",
       "    <tr>\n",
       "      <th>2007-07-06</th>\n",
       "      <td>1530.44</td>\n",
       "      <td>399.31</td>\n",
       "      <td>647.75</td>\n",
       "      <td>72.80</td>\n",
       "    </tr>\n",
       "  </tbody>\n",
       "</table>\n",
       "</div>"
      ],
      "text/plain": [
       "              SP500   Bonds    Gold    Oil\n",
       "DATE                                      \n",
       "2007-06-29  1503.35  402.15  648.50  70.47\n",
       "2007-07-02  1519.43  402.96  650.50  71.11\n",
       "2007-07-03  1524.87  402.02  657.25  71.41\n",
       "2007-07-05  1525.40  400.15  655.90  71.81\n",
       "2007-07-06  1530.44  399.31  647.75  72.80"
      ]
     },
     "execution_count": 28,
     "metadata": {},
     "output_type": "execute_result"
    }
   ],
   "source": [
    "df = pd.read_csv(\"../../Datasets/price.csv\",parse_dates=[\"DATE\"],index_col=[\"DATE\"])\n",
    "df.head()"
   ]
  },
  {
   "cell_type": "code",
   "execution_count": 29,
   "metadata": {},
   "outputs": [
    {
     "data": {
      "text/plain": [
       "1503.35"
      ]
     },
     "execution_count": 29,
     "metadata": {},
     "output_type": "execute_result"
    }
   ],
   "source": [
    "df['SP500'].values[0]"
   ]
  },
  {
   "cell_type": "code",
   "execution_count": 32,
   "metadata": {},
   "outputs": [
    {
     "data": {
      "text/plain": [
       "<Axes: xlabel='DATE'>"
      ]
     },
     "execution_count": 32,
     "metadata": {},
     "output_type": "execute_result"
    },
    {
     "data": {
      "image/png": "[encoded data removed]",
      "text/plain": [
       "<Figure size 640x480 with 1 Axes>"
      ]
     },
     "metadata": {},
     "output_type": "display_data"
    }
   ],
   "source": [
    "df['new_SP500'] = df['SP500']/df['SP500'].values[0]\n",
    "df['new_Bonds'] = df['Bonds']/df['Bonds'].values[0]\n",
    "df['new_Gold']  = df['Gold'] /df['Gold'].values[0]\n",
    "\n",
    "df.filter(like='new').plot()"
   ]
  },
  {
   "cell_type": "code",
   "execution_count": 33,
   "metadata": {},
   "outputs": [
    {
     "data": {
      "text/plain": [
       "<Axes: xlabel='DATE'>"
      ]
     },
     "execution_count": 33,
     "metadata": {},
     "output_type": "execute_result"
    },
    {
     "data": {
      "image/png": "[encoded data removed]",
      "text/plain": [
       "<Figure size 640x480 with 1 Axes>"
      ]
     },
     "metadata": {},
     "output_type": "display_data"
    }
   ],
   "source": [
    "df['new_SP500'].plot()"
   ]
  },
  {
   "cell_type": "code",
   "execution_count": 34,
   "metadata": {},
   "outputs": [
    {
     "data": {
      "text/plain": [
       "2"
      ]
     },
     "execution_count": 34,
     "metadata": {},
     "output_type": "execute_result"
    }
   ],
   "source": [
    "1+1"
   ]
  }
 ],
 "metadata": {
  "kernelspec": {
   "display_name": "env",
   "language": "python",
   "name": "python3"
  },
  "language_info": {
   "codemirror_mode": {
    "name": "ipython",
    "version": 3
   },
   "file_extension": ".py",
   "mimetype": "text/x-python",
   "name": "python",
   "nbconvert_exporter": "python",
   "pygments_lexer": "ipython3",
   "version": "3.12.0"
  }
 },
 "nbformat": 4,
 "nbformat_minor": 2
}
