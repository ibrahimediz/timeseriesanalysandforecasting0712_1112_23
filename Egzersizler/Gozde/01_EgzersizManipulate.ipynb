{
 "cells": [
  {
   "cell_type": "markdown",
   "metadata": {},
   "source": [
    "```\n",
    "import pandas as pd\n",
    "from datetime import datetime\n",
    "import matplotlib.pyplot as plt\n",
    "df = pd.read_csv(\"../../Datasets/price.csv\")\n",
    "```\n",
    "Yukarıda yer alan kodu kullanarak\n",
    "1. Verinin içeriğine bakılması\n",
    "2. Tarih Verisinin indis haline getirilmesi\n",
    "3. frekansın iş günü haline getirilmesi\n",
    "4. Bonds sütunu için grafik çizilmesi\n",
    "5. Bonds Sütununu dikkate alarak `lags`,`shifted` değerlerinin hesaplanması\n",
    "6. Bonds dikkate alarak yüzdelik değişimin hesaplanması \n",
    "işlemlerini gerçekleştirelim\n"
   ]
  },
  {
   "cell_type": "code",
   "execution_count": 9,
   "metadata": {},
   "outputs": [],
   "source": [
    "import pandas as pd\n",
    "from datetime import datetime\n",
    "import matplotlib.pyplot as plt"
   ]
  },
  {
   "cell_type": "code",
   "execution_count": null,
   "metadata": {},
   "outputs": [],
   "source": []
  },
  {
   "cell_type": "code",
   "execution_count": 10,
   "metadata": {},
   "outputs": [
    {
     "data": {
      "text/html": [
       "<div>\n",
       "<style scoped>\n",
       "    .dataframe tbody tr th:only-of-type {\n",
       "        vertical-align: middle;\n",
       "    }\n",
       "\n",
       "    .dataframe tbody tr th {\n",
       "        vertical-align: top;\n",
       "    }\n",
       "\n",
       "    .dataframe thead th {\n",
       "        text-align: right;\n",
       "    }\n",
       "</style>\n",
       "<table border=\"1\" class=\"dataframe\">\n",
       "  <thead>\n",
       "    <tr style=\"text-align: right;\">\n",
       "      <th></th>\n",
       "      <th>DATE</th>\n",
       "      <th>SP500</th>\n",
       "      <th>Bonds</th>\n",
       "      <th>Gold</th>\n",
       "      <th>Oil</th>\n",
       "    </tr>\n",
       "  </thead>\n",
       "  <tbody>\n",
       "    <tr>\n",
       "      <th>0</th>\n",
       "      <td>2007-06-29</td>\n",
       "      <td>1503.35</td>\n",
       "      <td>402.15</td>\n",
       "      <td>648.50</td>\n",
       "      <td>70.47</td>\n",
       "    </tr>\n",
       "    <tr>\n",
       "      <th>1</th>\n",
       "      <td>2007-07-02</td>\n",
       "      <td>1519.43</td>\n",
       "      <td>402.96</td>\n",
       "      <td>650.50</td>\n",
       "      <td>71.11</td>\n",
       "    </tr>\n",
       "    <tr>\n",
       "      <th>2</th>\n",
       "      <td>2007-07-03</td>\n",
       "      <td>1524.87</td>\n",
       "      <td>402.02</td>\n",
       "      <td>657.25</td>\n",
       "      <td>71.41</td>\n",
       "    </tr>\n",
       "    <tr>\n",
       "      <th>3</th>\n",
       "      <td>2007-07-05</td>\n",
       "      <td>1525.40</td>\n",
       "      <td>400.15</td>\n",
       "      <td>655.90</td>\n",
       "      <td>71.81</td>\n",
       "    </tr>\n",
       "    <tr>\n",
       "      <th>4</th>\n",
       "      <td>2007-07-06</td>\n",
       "      <td>1530.44</td>\n",
       "      <td>399.31</td>\n",
       "      <td>647.75</td>\n",
       "      <td>72.80</td>\n",
       "    </tr>\n",
       "  </tbody>\n",
       "</table>\n",
       "</div>"
      ],
      "text/plain": [
       "         DATE    SP500   Bonds    Gold    Oil\n",
       "0  2007-06-29  1503.35  402.15  648.50  70.47\n",
       "1  2007-07-02  1519.43  402.96  650.50  71.11\n",
       "2  2007-07-03  1524.87  402.02  657.25  71.41\n",
       "3  2007-07-05  1525.40  400.15  655.90  71.81\n",
       "4  2007-07-06  1530.44  399.31  647.75  72.80"
      ]
     },
     "execution_count": 10,
     "metadata": {},
     "output_type": "execute_result"
    }
   ],
   "source": [
    "df = pd.read_csv('../../Datasets/price.csv')\n",
    "df.head()"
   ]
  },
  {
   "cell_type": "code",
   "execution_count": 11,
   "metadata": {},
   "outputs": [
    {
     "name": "stdout",
     "output_type": "stream",
     "text": [
      "<class 'pandas.core.frame.DataFrame'>\n",
      "RangeIndex: 2469 entries, 0 to 2468\n",
      "Data columns (total 5 columns):\n",
      " #   Column  Non-Null Count  Dtype  \n",
      "---  ------  --------------  -----  \n",
      " 0   DATE    2469 non-null   object \n",
      " 1   SP500   2469 non-null   float64\n",
      " 2   Bonds   2469 non-null   float64\n",
      " 3   Gold    2469 non-null   float64\n",
      " 4   Oil     2469 non-null   float64\n",
      "dtypes: float64(4), object(1)\n",
      "memory usage: 96.6+ KB\n"
     ]
    }
   ],
   "source": [
    "# verinin iceriği\n",
    "df.info()"
   ]
  },
  {
   "cell_type": "code",
   "execution_count": 12,
   "metadata": {},
   "outputs": [
    {
     "name": "stdout",
     "output_type": "stream",
     "text": [
      "<class 'pandas.core.frame.DataFrame'>\n",
      "DatetimeIndex: 2469 entries, 2007-06-29 to 2017-06-26\n",
      "Data columns (total 4 columns):\n",
      " #   Column  Non-Null Count  Dtype  \n",
      "---  ------  --------------  -----  \n",
      " 0   SP500   2469 non-null   float64\n",
      " 1   Bonds   2469 non-null   float64\n",
      " 2   Gold    2469 non-null   float64\n",
      " 3   Oil     2469 non-null   float64\n",
      "dtypes: float64(4)\n",
      "memory usage: 96.4 KB\n"
     ]
    }
   ],
   "source": [
    "# tarih verisinin indis haline getirilmesi\n",
    "\n",
    "df.DATE = pd.to_datetime(df.DATE)\n",
    "df.set_index('DATE',inplace=True)\n",
    "df.info()\n",
    "#DATE sutunu dataframe üzerinde index e cevrildi"
   ]
  },
  {
   "cell_type": "code",
   "execution_count": 6,
   "metadata": {},
   "outputs": [],
   "source": [
    "#frekansın isgunu haline getirilmesi\n",
    "df = df.asfreq('B')\n"
   ]
  },
  {
   "cell_type": "code",
   "execution_count": 8,
   "metadata": {},
   "outputs": [
    {
     "name": "stdout",
     "output_type": "stream",
     "text": [
      "<class 'pandas.core.frame.DataFrame'>\n",
      "DatetimeIndex: 1 entries, 1970-01-01 to 1970-01-01\n",
      "Freq: B\n",
      "Data columns (total 5 columns):\n",
      " #   Column  Non-Null Count  Dtype  \n",
      "---  ------  --------------  -----  \n",
      " 0   DATE    0 non-null      object \n",
      " 1   SP500   0 non-null      float64\n",
      " 2   Bonds   0 non-null      float64\n",
      " 3   Gold    0 non-null      float64\n",
      " 4   Oil     0 non-null      float64\n",
      "dtypes: float64(4), object(1)\n",
      "memory usage: 48.0+ bytes\n"
     ]
    }
   ],
   "source": [
    "df.info()"
   ]
  },
  {
   "cell_type": "code",
   "execution_count": 7,
   "metadata": {},
   "outputs": [
    {
     "data": {
      "text/html": [
       "<div>\n",
       "<style scoped>\n",
       "    .dataframe tbody tr th:only-of-type {\n",
       "        vertical-align: middle;\n",
       "    }\n",
       "\n",
       "    .dataframe tbody tr th {\n",
       "        vertical-align: top;\n",
       "    }\n",
       "\n",
       "    .dataframe thead th {\n",
       "        text-align: right;\n",
       "    }\n",
       "</style>\n",
       "<table border=\"1\" class=\"dataframe\">\n",
       "  <thead>\n",
       "    <tr style=\"text-align: right;\">\n",
       "      <th></th>\n",
       "      <th>DATE</th>\n",
       "      <th>SP500</th>\n",
       "      <th>Bonds</th>\n",
       "      <th>Gold</th>\n",
       "      <th>Oil</th>\n",
       "    </tr>\n",
       "  </thead>\n",
       "  <tbody>\n",
       "    <tr>\n",
       "      <th>1970-01-01</th>\n",
       "      <td>NaN</td>\n",
       "      <td>NaN</td>\n",
       "      <td>NaN</td>\n",
       "      <td>NaN</td>\n",
       "      <td>NaN</td>\n",
       "    </tr>\n",
       "  </tbody>\n",
       "</table>\n",
       "</div>"
      ],
      "text/plain": [
       "           DATE  SP500  Bonds  Gold  Oil\n",
       "1970-01-01  NaN    NaN    NaN   NaN  NaN"
      ]
     },
     "execution_count": 7,
     "metadata": {},
     "output_type": "execute_result"
    }
   ],
   "source": [
    "df.head()"
   ]
  },
  {
   "cell_type": "code",
   "execution_count": null,
   "metadata": {},
   "outputs": [],
   "source": []
  }
 ],
 "metadata": {
  "kernelspec": {
   "display_name": "env",
   "language": "python",
   "name": "python3"
  },
  "language_info": {
   "codemirror_mode": {
    "name": "ipython",
    "version": 3
   },
   "file_extension": ".py",
   "mimetype": "text/x-python",
   "name": "python",
   "nbconvert_exporter": "python",
   "pygments_lexer": "ipython3",
   "version": "3.12.0"
  }
 },
 "nbformat": 4,
 "nbformat_minor": 2
}
