{
 "cells": [
  {
   "cell_type": "code",
   "execution_count": 1,
   "metadata": {},
   "outputs": [
    {
     "name": "stdout",
     "output_type": "stream",
     "text": [
      "Requirement already satisfied: plotly in /workspace/timeseriesanalysandforecasting0712_1112_23/env/lib/python3.12/site-packages (5.18.0)\n",
      "Requirement already satisfied: scikit-learn in /workspace/timeseriesanalysandforecasting0712_1112_23/env/lib/python3.12/site-packages (1.3.2)\n",
      "Requirement already satisfied: tenacity>=6.2.0 in /workspace/timeseriesanalysandforecasting0712_1112_23/env/lib/python3.12/site-packages (from plotly) (8.2.3)\n",
      "Requirement already satisfied: packaging in /workspace/timeseriesanalysandforecasting0712_1112_23/env/lib/python3.12/site-packages (from plotly) (23.2)\n",
      "Requirement already satisfied: numpy<2.0,>=1.17.3 in /workspace/timeseriesanalysandforecasting0712_1112_23/env/lib/python3.12/site-packages (from scikit-learn) (1.26.2)\n",
      "Requirement already satisfied: scipy>=1.5.0 in /workspace/timeseriesanalysandforecasting0712_1112_23/env/lib/python3.12/site-packages (from scikit-learn) (1.11.4)\n",
      "Requirement already satisfied: joblib>=1.1.1 in /workspace/timeseriesanalysandforecasting0712_1112_23/env/lib/python3.12/site-packages (from scikit-learn) (1.3.2)\n",
      "Requirement already satisfied: threadpoolctl>=2.0.0 in /workspace/timeseriesanalysandforecasting0712_1112_23/env/lib/python3.12/site-packages (from scikit-learn) (3.2.0)\n",
      "Note: you may need to restart the kernel to use updated packages.\n"
     ]
    }
   ],
   "source": [
    "# %pip install plotly  scikit-learn"
   ]
  },
  {
   "cell_type": "code",
   "execution_count": 2,
   "metadata": {},
   "outputs": [
    {
     "name": "stdout",
     "output_type": "stream",
     "text": [
      "Collecting tensorflow==1.8.0\n",
      "  Using cached https://storage.googleapis.com/tensorflow/mac/cpu/tensorflow-1.8.0-py3-none-any.whl (46.5 MB)\n",
      "Requirement already satisfied: absl-py>=0.1.6 in /workspace/timeseriesanalysandforecasting0712_1112_23/env/lib/python3.12/site-packages (from tensorflow==1.8.0) (2.0.0)\n",
      "Requirement already satisfied: astor>=0.6.0 in /workspace/timeseriesanalysandforecasting0712_1112_23/env/lib/python3.12/site-packages (from tensorflow==1.8.0) (0.8.1)\n",
      "Requirement already satisfied: gast>=0.2.0 in /workspace/timeseriesanalysandforecasting0712_1112_23/env/lib/python3.12/site-packages (from tensorflow==1.8.0) (0.5.4)\n",
      "Requirement already satisfied: numpy>=1.13.3 in /workspace/timeseriesanalysandforecasting0712_1112_23/env/lib/python3.12/site-packages (from tensorflow==1.8.0) (1.26.2)\n",
      "Requirement already satisfied: six>=1.10.0 in /workspace/timeseriesanalysandforecasting0712_1112_23/env/lib/python3.12/site-packages (from tensorflow==1.8.0) (1.16.0)\n",
      "Requirement already satisfied: protobuf>=3.4.0 in /workspace/timeseriesanalysandforecasting0712_1112_23/env/lib/python3.12/site-packages (from tensorflow==1.8.0) (4.25.1)\n",
      "Requirement already satisfied: tensorboard<1.9.0,>=1.8.0 in /workspace/timeseriesanalysandforecasting0712_1112_23/env/lib/python3.12/site-packages (from tensorflow==1.8.0) (1.8.0)\n",
      "Requirement already satisfied: termcolor>=1.1.0 in /workspace/timeseriesanalysandforecasting0712_1112_23/env/lib/python3.12/site-packages (from tensorflow==1.8.0) (2.4.0)\n",
      "Requirement already satisfied: grpcio>=1.8.6 in /workspace/timeseriesanalysandforecasting0712_1112_23/env/lib/python3.12/site-packages (from tensorflow==1.8.0) (1.60.0)\n",
      "Requirement already satisfied: wheel>=0.26 in /workspace/timeseriesanalysandforecasting0712_1112_23/env/lib/python3.12/site-packages (from tensorflow==1.8.0) (0.42.0)\n",
      "Requirement already satisfied: werkzeug>=0.11.10 in /workspace/timeseriesanalysandforecasting0712_1112_23/env/lib/python3.12/site-packages (from tensorboard<1.9.0,>=1.8.0->tensorflow==1.8.0) (3.0.1)\n",
      "Requirement already satisfied: html5lib==0.9999999 in /workspace/timeseriesanalysandforecasting0712_1112_23/env/lib/python3.12/site-packages (from tensorboard<1.9.0,>=1.8.0->tensorflow==1.8.0) (0.9999999)\n",
      "Requirement already satisfied: markdown>=2.6.8 in /workspace/timeseriesanalysandforecasting0712_1112_23/env/lib/python3.12/site-packages (from tensorboard<1.9.0,>=1.8.0->tensorflow==1.8.0) (3.5.1)\n",
      "Requirement already satisfied: bleach==1.5.0 in /workspace/timeseriesanalysandforecasting0712_1112_23/env/lib/python3.12/site-packages (from tensorboard<1.9.0,>=1.8.0->tensorflow==1.8.0) (1.5.0)\n",
      "Requirement already satisfied: MarkupSafe>=2.1.1 in /workspace/timeseriesanalysandforecasting0712_1112_23/env/lib/python3.12/site-packages (from werkzeug>=0.11.10->tensorboard<1.9.0,>=1.8.0->tensorflow==1.8.0) (2.1.3)\n",
      "Note: you may need to restart the kernel to use updated packages.\n"
     ]
    }
   ],
   "source": [
    "# %pip install https://storage.googleapis.com/tensorflow/mac/cpu/tensorflow-1.8.0-py3-none-any.whl"
   ]
  },
  {
   "cell_type": "code",
   "execution_count": 3,
   "metadata": {},
   "outputs": [
    {
     "ename": "SyntaxError",
     "evalue": "invalid syntax (pywrap_tensorflow_internal.py, line 114)",
     "output_type": "error",
     "traceback": [
      "Traceback \u001b[0;36m(most recent call last)\u001b[0m:\n",
      "\u001b[0m  File \u001b[1;32m/workspace/timeseriesanalysandforecasting0712_1112_23/env/lib/python3.12/site-packages/IPython/core/interactiveshell.py:3550\u001b[0m in \u001b[1;35mrun_code\u001b[0m\n    exec(code_obj, self.user_global_ns, self.user_ns)\u001b[0m\n",
      "\u001b[0m  Cell \u001b[1;32mIn[3], line 7\u001b[0m\n    from tensorflow import keras\u001b[0m\n",
      "\u001b[0m  File \u001b[1;32m/workspace/timeseriesanalysandforecasting0712_1112_23/env/lib/python3.12/site-packages/tensorflow/__init__.py:24\u001b[0m\n    from tensorflow.python import pywrap_tensorflow  # pylint: disable=unused-import\u001b[0m\n",
      "\u001b[0m  File \u001b[1;32m/workspace/timeseriesanalysandforecasting0712_1112_23/env/lib/python3.12/site-packages/tensorflow/python/__init__.py:49\u001b[0m\n    from tensorflow.python import pywrap_tensorflow\u001b[0m\n",
      "\u001b[0;36m  File \u001b[0;32m/workspace/timeseriesanalysandforecasting0712_1112_23/env/lib/python3.12/site-packages/tensorflow/python/pywrap_tensorflow.py:58\u001b[0;36m\n\u001b[0;31m    from tensorflow.python.pywrap_tensorflow_internal import *\u001b[0;36m\n",
      "\u001b[0;36m  File \u001b[0;32m/workspace/timeseriesanalysandforecasting0712_1112_23/env/lib/python3.12/site-packages/tensorflow/python/pywrap_tensorflow_internal.py:114\u001b[0;36m\u001b[0m\n\u001b[0;31m    def TFE_ContextOptionsSetAsync(arg1, async):\u001b[0m\n\u001b[0m                                         ^\u001b[0m\n\u001b[0;31mSyntaxError\u001b[0m\u001b[0;31m:\u001b[0m invalid syntax\n"
     ]
    }
   ],
   "source": [
    "import pandas as pd\n",
    "import plotly.express as px\n",
    "from scipy import stats\n",
    "import numpy as np\n",
    "import matplotlib.pyplot as plt\n",
    "from sklearn.model_selection import train_test_split\n",
    "from tensorflow import keras\n",
    "from sklearn.preprocessing import MinMaxScaler\n",
    "from sklearn.linear_model import Ridge\n",
    "from sklearn.metrics import r2_score\n",
    "\n",
    "import plotly.io as pio\n",
    "pio.renderers.default='notebook'\n"
   ]
  },
  {
   "cell_type": "code",
   "execution_count": null,
   "metadata": {},
   "outputs": [],
   "source": []
  }
 ],
 "metadata": {
  "kernelspec": {
   "display_name": "env",
   "language": "python",
   "name": "python3"
  },
  "language_info": {
   "codemirror_mode": {
    "name": "ipython",
    "version": 3
   },
   "file_extension": ".py",
   "mimetype": "text/x-python",
   "name": "python",
   "nbconvert_exporter": "python",
   "pygments_lexer": "ipython3",
   "version": "3.12.0"
  }
 },
 "nbformat": 4,
 "nbformat_minor": 2
}
